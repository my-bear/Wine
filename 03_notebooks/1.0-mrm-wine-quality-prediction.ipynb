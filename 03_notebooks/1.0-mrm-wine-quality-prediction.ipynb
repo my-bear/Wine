{
 "cells": [
  {
   "cell_type": "markdown",
   "id": "a2e90f2b",
   "metadata": {},
   "source": [
    "# 1. Понимание бизнеса\n",
    "\n",
    "## 1.1 Цель\n",
    "Предсказать качество вина\n",
    "\n",
    "## 1.2 Описание\n",
    "Эти два набора данных относятся к красному и белому вариантам португальского вина \"Винью Верде\". Ссылка [Кортес и др., 2009]. Из-за проблем конфиденциальности и логистики доступны только физико-химические (входные данные) и сенсорные (выходные данные) переменные (например, нет данных о сортах винограда, марке вина, цене продажи вина и т.д.).\n",
    "\n",
    "Эти наборы данных можно рассматривать как задачи классификации или регрессии. Классы упорядочены и не сбалансированы (например, существует гораздо больше нормальных вин, чем отличных или плохих). Алгоритмы обнаружения выбросов могут быть использованы для обнаружения нескольких превосходных или плохих вин. Кроме того, мы не уверены, что все входные переменные являются релевантными. Так что было бы интересно протестировать методы выбора функций.\n",
    "\n",
    "Два набора данных были объединены, и несколько значений были удалены случайным образом.\n",
    "\n",
    "[Описание от Kaggle](https://www.kaggle.com/rajyellow46/wine-quality)"
   ]
  },
  {
   "cell_type": "markdown",
   "id": "b248b0c4",
   "metadata": {},
   "source": [
    "# 2. Data Understanding\n",
    "\n",
    "## 2.1 Import Libraries"
   ]
  },
  {
   "cell_type": "code",
   "execution_count": 23,
   "id": "objective-thong",
   "metadata": {
    "execution": {
     "iopub.execute_input": "2021-04-09T21:01:47.281822Z",
     "iopub.status.busy": "2021-04-09T21:01:47.281173Z",
     "iopub.status.idle": "2021-04-09T21:01:48.211702Z",
     "shell.execute_reply": "2021-04-09T21:01:48.211048Z"
    },
    "papermill": {
     "duration": 0.957792,
     "end_time": "2021-04-09T21:01:48.211847",
     "exception": false,
     "start_time": "2021-04-09T21:01:47.254055",
     "status": "completed"
    },
    "tags": []
   },
   "outputs": [],
   "source": [
    "import pandas as pd \n",
    "import numpy as np\n",
    "import seaborn as sns\n",
    "import matplotlib.pyplot as plt\n",
    "import warnings\n",
    "%matplotlib inline\n",
    "import pickle\n",
    "warnings.filterwarnings('ignore')"
   ]
  },
  {
   "cell_type": "markdown",
   "id": "incident-friendly",
   "metadata": {
    "papermill": {
     "duration": 0.027357,
     "end_time": "2021-04-09T21:01:48.262915",
     "exception": false,
     "start_time": "2021-04-09T21:01:48.235558",
     "status": "completed"
    },
    "tags": []
   },
   "source": [
    "## 2.2 Загрузка данных"
   ]
  },
  {
   "cell_type": "code",
   "execution_count": 4,
   "id": "general-animal",
   "metadata": {
    "execution": {
     "iopub.execute_input": "2021-04-09T21:01:48.314811Z",
     "iopub.status.busy": "2021-04-09T21:01:48.314097Z",
     "iopub.status.idle": "2021-04-09T21:01:48.379405Z",
     "shell.execute_reply": "2021-04-09T21:01:48.378764Z"
    },
    "papermill": {
     "duration": 0.091829,
     "end_time": "2021-04-09T21:01:48.379544",
     "exception": false,
     "start_time": "2021-04-09T21:01:48.287715",
     "status": "completed"
    },
    "tags": []
   },
   "outputs": [
    {
     "data": {
      "text/html": [
       "<div>\n",
       "<style scoped>\n",
       "    .dataframe tbody tr th:only-of-type {\n",
       "        vertical-align: middle;\n",
       "    }\n",
       "\n",
       "    .dataframe tbody tr th {\n",
       "        vertical-align: top;\n",
       "    }\n",
       "\n",
       "    .dataframe thead th {\n",
       "        text-align: right;\n",
       "    }\n",
       "</style>\n",
       "<table border=\"1\" class=\"dataframe\">\n",
       "  <thead>\n",
       "    <tr style=\"text-align: right;\">\n",
       "      <th></th>\n",
       "      <th>type</th>\n",
       "      <th>fixed acidity</th>\n",
       "      <th>volatile acidity</th>\n",
       "      <th>citric acid</th>\n",
       "      <th>residual sugar</th>\n",
       "      <th>chlorides</th>\n",
       "      <th>free sulfur dioxide</th>\n",
       "      <th>total sulfur dioxide</th>\n",
       "      <th>density</th>\n",
       "      <th>pH</th>\n",
       "      <th>sulphates</th>\n",
       "      <th>alcohol</th>\n",
       "      <th>quality</th>\n",
       "    </tr>\n",
       "  </thead>\n",
       "  <tbody>\n",
       "    <tr>\n",
       "      <th>0</th>\n",
       "      <td>white</td>\n",
       "      <td>7.0</td>\n",
       "      <td>0.27</td>\n",
       "      <td>0.36</td>\n",
       "      <td>20.7</td>\n",
       "      <td>0.045</td>\n",
       "      <td>45.0</td>\n",
       "      <td>170.0</td>\n",
       "      <td>1.0010</td>\n",
       "      <td>3.00</td>\n",
       "      <td>0.45</td>\n",
       "      <td>8.8</td>\n",
       "      <td>6</td>\n",
       "    </tr>\n",
       "    <tr>\n",
       "      <th>1</th>\n",
       "      <td>white</td>\n",
       "      <td>6.3</td>\n",
       "      <td>0.30</td>\n",
       "      <td>0.34</td>\n",
       "      <td>1.6</td>\n",
       "      <td>0.049</td>\n",
       "      <td>14.0</td>\n",
       "      <td>132.0</td>\n",
       "      <td>0.9940</td>\n",
       "      <td>3.30</td>\n",
       "      <td>0.49</td>\n",
       "      <td>9.5</td>\n",
       "      <td>6</td>\n",
       "    </tr>\n",
       "    <tr>\n",
       "      <th>2</th>\n",
       "      <td>white</td>\n",
       "      <td>8.1</td>\n",
       "      <td>0.28</td>\n",
       "      <td>0.40</td>\n",
       "      <td>6.9</td>\n",
       "      <td>0.050</td>\n",
       "      <td>30.0</td>\n",
       "      <td>97.0</td>\n",
       "      <td>0.9951</td>\n",
       "      <td>3.26</td>\n",
       "      <td>0.44</td>\n",
       "      <td>10.1</td>\n",
       "      <td>6</td>\n",
       "    </tr>\n",
       "    <tr>\n",
       "      <th>3</th>\n",
       "      <td>white</td>\n",
       "      <td>7.2</td>\n",
       "      <td>0.23</td>\n",
       "      <td>0.32</td>\n",
       "      <td>8.5</td>\n",
       "      <td>0.058</td>\n",
       "      <td>47.0</td>\n",
       "      <td>186.0</td>\n",
       "      <td>0.9956</td>\n",
       "      <td>3.19</td>\n",
       "      <td>0.40</td>\n",
       "      <td>9.9</td>\n",
       "      <td>6</td>\n",
       "    </tr>\n",
       "    <tr>\n",
       "      <th>4</th>\n",
       "      <td>white</td>\n",
       "      <td>7.2</td>\n",
       "      <td>0.23</td>\n",
       "      <td>0.32</td>\n",
       "      <td>8.5</td>\n",
       "      <td>0.058</td>\n",
       "      <td>47.0</td>\n",
       "      <td>186.0</td>\n",
       "      <td>0.9956</td>\n",
       "      <td>3.19</td>\n",
       "      <td>0.40</td>\n",
       "      <td>9.9</td>\n",
       "      <td>6</td>\n",
       "    </tr>\n",
       "  </tbody>\n",
       "</table>\n",
       "</div>"
      ],
      "text/plain": [
       "    type  fixed acidity  volatile acidity  citric acid  residual sugar  \\\n",
       "0  white            7.0              0.27         0.36            20.7   \n",
       "1  white            6.3              0.30         0.34             1.6   \n",
       "2  white            8.1              0.28         0.40             6.9   \n",
       "3  white            7.2              0.23         0.32             8.5   \n",
       "4  white            7.2              0.23         0.32             8.5   \n",
       "\n",
       "   chlorides  free sulfur dioxide  total sulfur dioxide  density    pH  \\\n",
       "0      0.045                 45.0                 170.0   1.0010  3.00   \n",
       "1      0.049                 14.0                 132.0   0.9940  3.30   \n",
       "2      0.050                 30.0                  97.0   0.9951  3.26   \n",
       "3      0.058                 47.0                 186.0   0.9956  3.19   \n",
       "4      0.058                 47.0                 186.0   0.9956  3.19   \n",
       "\n",
       "   sulphates  alcohol  quality  \n",
       "0       0.45      8.8        6  \n",
       "1       0.49      9.5        6  \n",
       "2       0.44     10.1        6  \n",
       "3       0.40      9.9        6  \n",
       "4       0.40      9.9        6  "
      ]
     },
     "execution_count": 4,
     "metadata": {},
     "output_type": "execute_result"
    }
   ],
   "source": [
    "df=pd.read_csv('external_data/winequalityN.csv')\n",
    "df.head()"
   ]
  },
  {
   "cell_type": "code",
   "execution_count": 5,
   "id": "heated-contrast",
   "metadata": {
    "execution": {
     "iopub.execute_input": "2021-04-09T21:01:48.533215Z",
     "iopub.status.busy": "2021-04-09T21:01:48.531465Z",
     "iopub.status.idle": "2021-04-09T21:01:48.549154Z",
     "shell.execute_reply": "2021-04-09T21:01:48.547942Z"
    },
    "papermill": {
     "duration": 0.046087,
     "end_time": "2021-04-09T21:01:48.549415",
     "exception": false,
     "start_time": "2021-04-09T21:01:48.503328",
     "status": "completed"
    },
    "tags": []
   },
   "outputs": [
    {
     "name": "stdout",
     "output_type": "stream",
     "text": [
      "<class 'pandas.core.frame.DataFrame'>\n",
      "RangeIndex: 6497 entries, 0 to 6496\n",
      "Data columns (total 13 columns):\n",
      " #   Column                Non-Null Count  Dtype  \n",
      "---  ------                --------------  -----  \n",
      " 0   type                  6497 non-null   object \n",
      " 1   fixed acidity         6487 non-null   float64\n",
      " 2   volatile acidity      6489 non-null   float64\n",
      " 3   citric acid           6494 non-null   float64\n",
      " 4   residual sugar        6495 non-null   float64\n",
      " 5   chlorides             6495 non-null   float64\n",
      " 6   free sulfur dioxide   6497 non-null   float64\n",
      " 7   total sulfur dioxide  6497 non-null   float64\n",
      " 8   density               6497 non-null   float64\n",
      " 9   pH                    6488 non-null   float64\n",
      " 10  sulphates             6493 non-null   float64\n",
      " 11  alcohol               6497 non-null   float64\n",
      " 12  quality               6497 non-null   int64  \n",
      "dtypes: float64(11), int64(1), object(1)\n",
      "memory usage: 660.0+ KB\n"
     ]
    }
   ],
   "source": [
    "df.info()"
   ]
  },
  {
   "cell_type": "markdown",
   "id": "34cef8fb",
   "metadata": {},
   "source": [
    "**Описание переменных**\n",
    "\n",
    "Для получения дополнительной информации прочитайте [Cortez et al., 2009].\n",
    "Входные переменные (на основе физико-химических тестов):\n",
    "\n",
    "1 - фиксированная кислотность<br>\n",
    "2 - летучая кислотность<br>\n",
    "3 - лимонная кислота<br>\n",
    "4 - остаточный сахар<br>\n",
    "5 - хлориды<br>\n",
    "6 - свободный диоксид серы<br>\n",
    "7 - общий диоксид серы<br>\n",
    "8 - плотность<br>\n",
    "9 - рН<br>\n",
    "10 - сульфаты<br>\n",
    "11 - алкоголь<br>\n",
    "Выходная переменная (на основе сенсорных данных):<br>\n",
    "12 - качество (оценка от 0 до 10)\n",
    "\n",
    "Выражение благодарности:\n",
    "\n",
    "П. Кортес, А. Сердейра, Ф. Алмейда, Т. Матос и Дж.Рейс.\n",
    "Моделирование предпочтений вина путем интеллектуального анализа данных по физико-химическим свойствам. В Системах Поддержки Принятия Решений Elsevier, 47(4):547-553, 2009."
   ]
  },
  {
   "cell_type": "markdown",
   "id": "dd5b242e",
   "metadata": {},
   "source": [
    "## 2.3 Статистика и визуализации"
   ]
  },
  {
   "cell_type": "code",
   "execution_count": 6,
   "id": "bearing-mediterranean",
   "metadata": {
    "execution": {
     "iopub.execute_input": "2021-04-09T21:01:48.433456Z",
     "iopub.status.busy": "2021-04-09T21:01:48.432767Z",
     "iopub.status.idle": "2021-04-09T21:01:48.479651Z",
     "shell.execute_reply": "2021-04-09T21:01:48.479083Z"
    },
    "papermill": {
     "duration": 0.077284,
     "end_time": "2021-04-09T21:01:48.479795",
     "exception": false,
     "start_time": "2021-04-09T21:01:48.402511",
     "status": "completed"
    },
    "tags": []
   },
   "outputs": [
    {
     "data": {
      "text/html": [
       "<div>\n",
       "<style scoped>\n",
       "    .dataframe tbody tr th:only-of-type {\n",
       "        vertical-align: middle;\n",
       "    }\n",
       "\n",
       "    .dataframe tbody tr th {\n",
       "        vertical-align: top;\n",
       "    }\n",
       "\n",
       "    .dataframe thead th {\n",
       "        text-align: right;\n",
       "    }\n",
       "</style>\n",
       "<table border=\"1\" class=\"dataframe\">\n",
       "  <thead>\n",
       "    <tr style=\"text-align: right;\">\n",
       "      <th></th>\n",
       "      <th>fixed acidity</th>\n",
       "      <th>volatile acidity</th>\n",
       "      <th>citric acid</th>\n",
       "      <th>residual sugar</th>\n",
       "      <th>chlorides</th>\n",
       "      <th>free sulfur dioxide</th>\n",
       "      <th>total sulfur dioxide</th>\n",
       "      <th>density</th>\n",
       "      <th>pH</th>\n",
       "      <th>sulphates</th>\n",
       "      <th>alcohol</th>\n",
       "      <th>quality</th>\n",
       "    </tr>\n",
       "  </thead>\n",
       "  <tbody>\n",
       "    <tr>\n",
       "      <th>count</th>\n",
       "      <td>6487.000000</td>\n",
       "      <td>6489.000000</td>\n",
       "      <td>6494.000000</td>\n",
       "      <td>6495.000000</td>\n",
       "      <td>6495.000000</td>\n",
       "      <td>6497.000000</td>\n",
       "      <td>6497.000000</td>\n",
       "      <td>6497.000000</td>\n",
       "      <td>6488.000000</td>\n",
       "      <td>6493.000000</td>\n",
       "      <td>6497.000000</td>\n",
       "      <td>6497.000000</td>\n",
       "    </tr>\n",
       "    <tr>\n",
       "      <th>mean</th>\n",
       "      <td>7.216579</td>\n",
       "      <td>0.339691</td>\n",
       "      <td>0.318722</td>\n",
       "      <td>5.444326</td>\n",
       "      <td>0.056042</td>\n",
       "      <td>30.525319</td>\n",
       "      <td>115.744574</td>\n",
       "      <td>0.994697</td>\n",
       "      <td>3.218395</td>\n",
       "      <td>0.531215</td>\n",
       "      <td>10.491801</td>\n",
       "      <td>5.818378</td>\n",
       "    </tr>\n",
       "    <tr>\n",
       "      <th>std</th>\n",
       "      <td>1.296750</td>\n",
       "      <td>0.164649</td>\n",
       "      <td>0.145265</td>\n",
       "      <td>4.758125</td>\n",
       "      <td>0.035036</td>\n",
       "      <td>17.749400</td>\n",
       "      <td>56.521855</td>\n",
       "      <td>0.002999</td>\n",
       "      <td>0.160748</td>\n",
       "      <td>0.148814</td>\n",
       "      <td>1.192712</td>\n",
       "      <td>0.873255</td>\n",
       "    </tr>\n",
       "    <tr>\n",
       "      <th>min</th>\n",
       "      <td>3.800000</td>\n",
       "      <td>0.080000</td>\n",
       "      <td>0.000000</td>\n",
       "      <td>0.600000</td>\n",
       "      <td>0.009000</td>\n",
       "      <td>1.000000</td>\n",
       "      <td>6.000000</td>\n",
       "      <td>0.987110</td>\n",
       "      <td>2.720000</td>\n",
       "      <td>0.220000</td>\n",
       "      <td>8.000000</td>\n",
       "      <td>3.000000</td>\n",
       "    </tr>\n",
       "    <tr>\n",
       "      <th>25%</th>\n",
       "      <td>6.400000</td>\n",
       "      <td>0.230000</td>\n",
       "      <td>0.250000</td>\n",
       "      <td>1.800000</td>\n",
       "      <td>0.038000</td>\n",
       "      <td>17.000000</td>\n",
       "      <td>77.000000</td>\n",
       "      <td>0.992340</td>\n",
       "      <td>3.110000</td>\n",
       "      <td>0.430000</td>\n",
       "      <td>9.500000</td>\n",
       "      <td>5.000000</td>\n",
       "    </tr>\n",
       "    <tr>\n",
       "      <th>50%</th>\n",
       "      <td>7.000000</td>\n",
       "      <td>0.290000</td>\n",
       "      <td>0.310000</td>\n",
       "      <td>3.000000</td>\n",
       "      <td>0.047000</td>\n",
       "      <td>29.000000</td>\n",
       "      <td>118.000000</td>\n",
       "      <td>0.994890</td>\n",
       "      <td>3.210000</td>\n",
       "      <td>0.510000</td>\n",
       "      <td>10.300000</td>\n",
       "      <td>6.000000</td>\n",
       "    </tr>\n",
       "    <tr>\n",
       "      <th>75%</th>\n",
       "      <td>7.700000</td>\n",
       "      <td>0.400000</td>\n",
       "      <td>0.390000</td>\n",
       "      <td>8.100000</td>\n",
       "      <td>0.065000</td>\n",
       "      <td>41.000000</td>\n",
       "      <td>156.000000</td>\n",
       "      <td>0.996990</td>\n",
       "      <td>3.320000</td>\n",
       "      <td>0.600000</td>\n",
       "      <td>11.300000</td>\n",
       "      <td>6.000000</td>\n",
       "    </tr>\n",
       "    <tr>\n",
       "      <th>max</th>\n",
       "      <td>15.900000</td>\n",
       "      <td>1.580000</td>\n",
       "      <td>1.660000</td>\n",
       "      <td>65.800000</td>\n",
       "      <td>0.611000</td>\n",
       "      <td>289.000000</td>\n",
       "      <td>440.000000</td>\n",
       "      <td>1.038980</td>\n",
       "      <td>4.010000</td>\n",
       "      <td>2.000000</td>\n",
       "      <td>14.900000</td>\n",
       "      <td>9.000000</td>\n",
       "    </tr>\n",
       "  </tbody>\n",
       "</table>\n",
       "</div>"
      ],
      "text/plain": [
       "       fixed acidity  volatile acidity  citric acid  residual sugar  \\\n",
       "count    6487.000000       6489.000000  6494.000000     6495.000000   \n",
       "mean        7.216579          0.339691     0.318722        5.444326   \n",
       "std         1.296750          0.164649     0.145265        4.758125   \n",
       "min         3.800000          0.080000     0.000000        0.600000   \n",
       "25%         6.400000          0.230000     0.250000        1.800000   \n",
       "50%         7.000000          0.290000     0.310000        3.000000   \n",
       "75%         7.700000          0.400000     0.390000        8.100000   \n",
       "max        15.900000          1.580000     1.660000       65.800000   \n",
       "\n",
       "         chlorides  free sulfur dioxide  total sulfur dioxide      density  \\\n",
       "count  6495.000000          6497.000000           6497.000000  6497.000000   \n",
       "mean      0.056042            30.525319            115.744574     0.994697   \n",
       "std       0.035036            17.749400             56.521855     0.002999   \n",
       "min       0.009000             1.000000              6.000000     0.987110   \n",
       "25%       0.038000            17.000000             77.000000     0.992340   \n",
       "50%       0.047000            29.000000            118.000000     0.994890   \n",
       "75%       0.065000            41.000000            156.000000     0.996990   \n",
       "max       0.611000           289.000000            440.000000     1.038980   \n",
       "\n",
       "                pH    sulphates      alcohol      quality  \n",
       "count  6488.000000  6493.000000  6497.000000  6497.000000  \n",
       "mean      3.218395     0.531215    10.491801     5.818378  \n",
       "std       0.160748     0.148814     1.192712     0.873255  \n",
       "min       2.720000     0.220000     8.000000     3.000000  \n",
       "25%       3.110000     0.430000     9.500000     5.000000  \n",
       "50%       3.210000     0.510000    10.300000     6.000000  \n",
       "75%       3.320000     0.600000    11.300000     6.000000  \n",
       "max       4.010000     2.000000    14.900000     9.000000  "
      ]
     },
     "execution_count": 6,
     "metadata": {},
     "output_type": "execute_result"
    }
   ],
   "source": [
    "df.describe()"
   ]
  },
  {
   "cell_type": "markdown",
   "id": "c6bdfc4c",
   "metadata": {},
   "source": [
    "### 2.3.1. Смотрим на распределение красных и белых вин "
   ]
  },
  {
   "cell_type": "code",
   "execution_count": 7,
   "id": "moving-hazard",
   "metadata": {
    "execution": {
     "iopub.execute_input": "2021-04-09T21:01:54.110564Z",
     "iopub.status.busy": "2021-04-09T21:01:54.109839Z",
     "iopub.status.idle": "2021-04-09T21:01:54.223211Z",
     "shell.execute_reply": "2021-04-09T21:01:54.222186Z"
    },
    "papermill": {
     "duration": 0.155944,
     "end_time": "2021-04-09T21:01:54.223359",
     "exception": false,
     "start_time": "2021-04-09T21:01:54.067415",
     "status": "completed"
    },
    "scrolled": true,
    "tags": []
   },
   "outputs": [
    {
     "data": {
      "text/plain": [
       "<AxesSubplot:xlabel='type', ylabel='count'>"
      ]
     },
     "execution_count": 7,
     "metadata": {},
     "output_type": "execute_result"
    },
    {
     "data": {
      "image/png": "[encoded data removed]",
      "text/plain": [
       "<Figure size 432x288 with 1 Axes>"
      ]
     },
     "metadata": {
      "needs_background": "light"
     },
     "output_type": "display_data"
    }
   ],
   "source": [
    "sns.countplot(df['type'])"
   ]
  },
  {
   "cell_type": "markdown",
   "id": "34a16549",
   "metadata": {},
   "source": [
    "### 2.3.2. Смотрим на распределение вин по качеству"
   ]
  },
  {
   "cell_type": "code",
   "execution_count": 8,
   "id": "spectacular-investigator",
   "metadata": {
    "execution": {
     "iopub.execute_input": "2021-04-09T21:01:54.295927Z",
     "iopub.status.busy": "2021-04-09T21:01:54.295221Z",
     "iopub.status.idle": "2021-04-09T21:01:54.434811Z",
     "shell.execute_reply": "2021-04-09T21:01:54.435350Z"
    },
    "papermill": {
     "duration": 0.178357,
     "end_time": "2021-04-09T21:01:54.435529",
     "exception": false,
     "start_time": "2021-04-09T21:01:54.257172",
     "status": "completed"
    },
    "scrolled": true,
    "tags": []
   },
   "outputs": [
    {
     "data": {
      "text/plain": [
       "<AxesSubplot:xlabel='quality', ylabel='count'>"
      ]
     },
     "execution_count": 8,
     "metadata": {},
     "output_type": "execute_result"
    },
    {
     "data": {
      "image/png": "[encoded data removed]",
      "text/plain": [
       "<Figure size 432x288 with 1 Axes>"
      ]
     },
     "metadata": {
      "needs_background": "light"
     },
     "output_type": "display_data"
    }
   ],
   "source": [
    "sns.countplot(df['quality'])"
   ]
  },
  {
   "cell_type": "markdown",
   "id": "competitive-dressing",
   "metadata": {
    "papermill": {
     "duration": 0.038479,
     "end_time": "2021-04-09T21:01:54.508881",
     "exception": false,
     "start_time": "2021-04-09T21:01:54.470402",
     "status": "completed"
    },
    "tags": []
   },
   "source": [
    "### 2.4.3 Тепловая карта корреляции может дать нам понимание того, какие переменные важны"
   ]
  },
  {
   "cell_type": "code",
   "execution_count": 9,
   "id": "illegal-friendly",
   "metadata": {
    "execution": {
     "iopub.execute_input": "2021-04-09T21:01:54.581816Z",
     "iopub.status.busy": "2021-04-09T21:01:54.581117Z",
     "iopub.status.idle": "2021-04-09T21:01:55.693252Z",
     "shell.execute_reply": "2021-04-09T21:01:55.693753Z"
    },
    "papermill": {
     "duration": 1.150333,
     "end_time": "2021-04-09T21:01:55.693924",
     "exception": false,
     "start_time": "2021-04-09T21:01:54.543591",
     "status": "completed"
    },
    "tags": []
   },
   "outputs": [
    {
     "data": {
      "text/plain": [
       "<AxesSubplot:>"
      ]
     },
     "execution_count": 9,
     "metadata": {},
     "output_type": "execute_result"
    },
    {
     "data": {
      "image/png": "[encoded data removed]",
      "text/plain": [
       "<Figure size 1440x720 with 2 Axes>"
      ]
     },
     "metadata": {
      "needs_background": "light"
     },
     "output_type": "display_data"
    }
   ],
   "source": [
    "corr=df.corr()\n",
    "plt.figure(figsize=(20,10))\n",
    "sns.heatmap(corr,annot=True, cmap='coolwarm')"
   ]
  },
  {
   "cell_type": "markdown",
   "id": "defined-parcel",
   "metadata": {
    "papermill": {
     "duration": 0.023813,
     "end_time": "2021-04-09T21:01:48.598733",
     "exception": false,
     "start_time": "2021-04-09T21:01:48.574920",
     "status": "completed"
    },
    "tags": []
   },
   "source": [
    "# 3. Data Preparation"
   ]
  },
  {
   "cell_type": "markdown",
   "id": "29b2dbb1",
   "metadata": {},
   "source": [
    "### 3.1. Проверяем на нулевые значения и заполняем средним"
   ]
  },
  {
   "cell_type": "code",
   "execution_count": 10,
   "id": "65718748",
   "metadata": {
    "execution": {
     "iopub.execute_input": "2021-04-09T21:01:48.654675Z",
     "iopub.status.busy": "2021-04-09T21:01:48.652577Z",
     "iopub.status.idle": "2021-04-09T21:01:48.659058Z",
     "shell.execute_reply": "2021-04-09T21:01:48.659499Z"
    },
    "papermill": {
     "duration": 0.036872,
     "end_time": "2021-04-09T21:01:48.659683",
     "exception": false,
     "start_time": "2021-04-09T21:01:48.622811",
     "status": "completed"
    },
    "tags": []
   },
   "outputs": [
    {
     "data": {
      "text/plain": [
       "type                     0\n",
       "fixed acidity           10\n",
       "volatile acidity         8\n",
       "citric acid              3\n",
       "residual sugar           2\n",
       "chlorides                2\n",
       "free sulfur dioxide      0\n",
       "total sulfur dioxide     0\n",
       "density                  0\n",
       "pH                       9\n",
       "sulphates                4\n",
       "alcohol                  0\n",
       "quality                  0\n",
       "dtype: int64"
      ]
     },
     "execution_count": 10,
     "metadata": {},
     "output_type": "execute_result"
    }
   ],
   "source": [
    "df.isnull().sum()"
   ]
  },
  {
   "cell_type": "code",
   "execution_count": 11,
   "id": "cathedral-hopkins",
   "metadata": {
    "execution": {
     "iopub.execute_input": "2021-04-09T21:01:48.716483Z",
     "iopub.status.busy": "2021-04-09T21:01:48.715875Z",
     "iopub.status.idle": "2021-04-09T21:01:48.720805Z",
     "shell.execute_reply": "2021-04-09T21:01:48.720300Z"
    },
    "papermill": {
     "duration": 0.036761,
     "end_time": "2021-04-09T21:01:48.720954",
     "exception": false,
     "start_time": "2021-04-09T21:01:48.684193",
     "status": "completed"
    },
    "tags": []
   },
   "outputs": [],
   "source": [
    "feature_with_na=[feature for feature in df.columns if df[feature].isnull().sum()>0]"
   ]
  },
  {
   "cell_type": "code",
   "execution_count": 12,
   "id": "broadband-parade",
   "metadata": {
    "execution": {
     "iopub.execute_input": "2021-04-09T21:01:48.789951Z",
     "iopub.status.busy": "2021-04-09T21:01:48.789298Z",
     "iopub.status.idle": "2021-04-09T21:01:48.792283Z",
     "shell.execute_reply": "2021-04-09T21:01:48.792873Z"
    },
    "papermill": {
     "duration": 0.047246,
     "end_time": "2021-04-09T21:01:48.793051",
     "exception": false,
     "start_time": "2021-04-09T21:01:48.745805",
     "status": "completed"
    },
    "tags": []
   },
   "outputs": [
    {
     "data": {
      "text/html": [
       "<div>\n",
       "<style scoped>\n",
       "    .dataframe tbody tr th:only-of-type {\n",
       "        vertical-align: middle;\n",
       "    }\n",
       "\n",
       "    .dataframe tbody tr th {\n",
       "        vertical-align: top;\n",
       "    }\n",
       "\n",
       "    .dataframe thead th {\n",
       "        text-align: right;\n",
       "    }\n",
       "</style>\n",
       "<table border=\"1\" class=\"dataframe\">\n",
       "  <thead>\n",
       "    <tr style=\"text-align: right;\">\n",
       "      <th></th>\n",
       "      <th>fixed acidity</th>\n",
       "      <th>volatile acidity</th>\n",
       "      <th>citric acid</th>\n",
       "      <th>residual sugar</th>\n",
       "      <th>chlorides</th>\n",
       "      <th>pH</th>\n",
       "      <th>sulphates</th>\n",
       "    </tr>\n",
       "  </thead>\n",
       "  <tbody>\n",
       "    <tr>\n",
       "      <th>0</th>\n",
       "      <td>7.0</td>\n",
       "      <td>0.27</td>\n",
       "      <td>0.36</td>\n",
       "      <td>20.7</td>\n",
       "      <td>0.045</td>\n",
       "      <td>3.00</td>\n",
       "      <td>0.45</td>\n",
       "    </tr>\n",
       "    <tr>\n",
       "      <th>1</th>\n",
       "      <td>6.3</td>\n",
       "      <td>0.30</td>\n",
       "      <td>0.34</td>\n",
       "      <td>1.6</td>\n",
       "      <td>0.049</td>\n",
       "      <td>3.30</td>\n",
       "      <td>0.49</td>\n",
       "    </tr>\n",
       "    <tr>\n",
       "      <th>2</th>\n",
       "      <td>8.1</td>\n",
       "      <td>0.28</td>\n",
       "      <td>0.40</td>\n",
       "      <td>6.9</td>\n",
       "      <td>0.050</td>\n",
       "      <td>3.26</td>\n",
       "      <td>0.44</td>\n",
       "    </tr>\n",
       "    <tr>\n",
       "      <th>3</th>\n",
       "      <td>7.2</td>\n",
       "      <td>0.23</td>\n",
       "      <td>0.32</td>\n",
       "      <td>8.5</td>\n",
       "      <td>0.058</td>\n",
       "      <td>3.19</td>\n",
       "      <td>0.40</td>\n",
       "    </tr>\n",
       "    <tr>\n",
       "      <th>4</th>\n",
       "      <td>7.2</td>\n",
       "      <td>0.23</td>\n",
       "      <td>0.32</td>\n",
       "      <td>8.5</td>\n",
       "      <td>0.058</td>\n",
       "      <td>3.19</td>\n",
       "      <td>0.40</td>\n",
       "    </tr>\n",
       "    <tr>\n",
       "      <th>5</th>\n",
       "      <td>8.1</td>\n",
       "      <td>0.28</td>\n",
       "      <td>0.40</td>\n",
       "      <td>6.9</td>\n",
       "      <td>0.050</td>\n",
       "      <td>3.26</td>\n",
       "      <td>0.44</td>\n",
       "    </tr>\n",
       "    <tr>\n",
       "      <th>6</th>\n",
       "      <td>6.2</td>\n",
       "      <td>0.32</td>\n",
       "      <td>0.16</td>\n",
       "      <td>7.0</td>\n",
       "      <td>0.045</td>\n",
       "      <td>3.18</td>\n",
       "      <td>0.47</td>\n",
       "    </tr>\n",
       "    <tr>\n",
       "      <th>7</th>\n",
       "      <td>7.0</td>\n",
       "      <td>0.27</td>\n",
       "      <td>0.36</td>\n",
       "      <td>20.7</td>\n",
       "      <td>0.045</td>\n",
       "      <td>3.00</td>\n",
       "      <td>0.45</td>\n",
       "    </tr>\n",
       "    <tr>\n",
       "      <th>8</th>\n",
       "      <td>6.3</td>\n",
       "      <td>0.30</td>\n",
       "      <td>0.34</td>\n",
       "      <td>1.6</td>\n",
       "      <td>0.049</td>\n",
       "      <td>3.30</td>\n",
       "      <td>0.49</td>\n",
       "    </tr>\n",
       "    <tr>\n",
       "      <th>9</th>\n",
       "      <td>8.1</td>\n",
       "      <td>0.22</td>\n",
       "      <td>0.43</td>\n",
       "      <td>1.5</td>\n",
       "      <td>0.044</td>\n",
       "      <td>3.22</td>\n",
       "      <td>0.45</td>\n",
       "    </tr>\n",
       "  </tbody>\n",
       "</table>\n",
       "</div>"
      ],
      "text/plain": [
       "   fixed acidity  volatile acidity  citric acid  residual sugar  chlorides  \\\n",
       "0            7.0              0.27         0.36            20.7      0.045   \n",
       "1            6.3              0.30         0.34             1.6      0.049   \n",
       "2            8.1              0.28         0.40             6.9      0.050   \n",
       "3            7.2              0.23         0.32             8.5      0.058   \n",
       "4            7.2              0.23         0.32             8.5      0.058   \n",
       "5            8.1              0.28         0.40             6.9      0.050   \n",
       "6            6.2              0.32         0.16             7.0      0.045   \n",
       "7            7.0              0.27         0.36            20.7      0.045   \n",
       "8            6.3              0.30         0.34             1.6      0.049   \n",
       "9            8.1              0.22         0.43             1.5      0.044   \n",
       "\n",
       "     pH  sulphates  \n",
       "0  3.00       0.45  \n",
       "1  3.30       0.49  \n",
       "2  3.26       0.44  \n",
       "3  3.19       0.40  \n",
       "4  3.19       0.40  \n",
       "5  3.26       0.44  \n",
       "6  3.18       0.47  \n",
       "7  3.00       0.45  \n",
       "8  3.30       0.49  \n",
       "9  3.22       0.45  "
      ]
     },
     "execution_count": 12,
     "metadata": {},
     "output_type": "execute_result"
    }
   ],
   "source": [
    "df[feature_with_na].head(10)"
   ]
  },
  {
   "cell_type": "code",
   "execution_count": 13,
   "id": "induced-recovery",
   "metadata": {
    "execution": {
     "iopub.execute_input": "2021-04-09T21:01:48.846444Z",
     "iopub.status.busy": "2021-04-09T21:01:48.845855Z",
     "iopub.status.idle": "2021-04-09T21:01:48.856867Z",
     "shell.execute_reply": "2021-04-09T21:01:48.857412Z"
    },
    "papermill": {
     "duration": 0.039349,
     "end_time": "2021-04-09T21:01:48.857572",
     "exception": false,
     "start_time": "2021-04-09T21:01:48.818223",
     "status": "completed"
    },
    "tags": []
   },
   "outputs": [
    {
     "data": {
      "text/plain": [
       "type                    0\n",
       "fixed acidity           0\n",
       "volatile acidity        0\n",
       "citric acid             0\n",
       "residual sugar          0\n",
       "chlorides               0\n",
       "free sulfur dioxide     0\n",
       "total sulfur dioxide    0\n",
       "density                 0\n",
       "pH                      0\n",
       "sulphates               0\n",
       "alcohol                 0\n",
       "quality                 0\n",
       "dtype: int64"
      ]
     },
     "execution_count": 13,
     "metadata": {},
     "output_type": "execute_result"
    }
   ],
   "source": [
    "for feature in feature_with_na:\n",
    "    df[feature].fillna(df[feature].mean(), inplace=True)\n",
    "df.isnull().sum()"
   ]
  },
  {
   "cell_type": "markdown",
   "id": "after-writer",
   "metadata": {
    "papermill": {
     "duration": 0.025383,
     "end_time": "2021-04-09T21:01:48.908854",
     "exception": false,
     "start_time": "2021-04-09T21:01:48.883471",
     "status": "completed"
    },
    "tags": []
   },
   "source": [
    "### 3.2. Смотрим на выбросы"
   ]
  },
  {
   "cell_type": "code",
   "execution_count": 14,
   "id": "dedicated-bermuda",
   "metadata": {
    "execution": {
     "iopub.execute_input": "2021-04-09T21:01:48.963630Z",
     "iopub.status.busy": "2021-04-09T21:01:48.963022Z",
     "iopub.status.idle": "2021-04-09T21:01:50.294391Z",
     "shell.execute_reply": "2021-04-09T21:01:50.294901Z"
    },
    "papermill": {
     "duration": 1.36012,
     "end_time": "2021-04-09T21:01:50.295070",
     "exception": false,
     "start_time": "2021-04-09T21:01:48.934950",
     "status": "completed"
    },
    "tags": []
   },
   "outputs": [
    {
     "data": {
      "image/png": "[encoded data removed]",
      "text/plain": [
       "<Figure size 1440x720 with 12 Axes>"
      ]
     },
     "metadata": {
      "needs_background": "light"
     },
     "output_type": "display_data"
    }
   ],
   "source": [
    "fig,ax = plt.subplots(ncols=6,nrows=2,figsize=(20,10))\n",
    "index=0\n",
    "ax=ax.flatten()\n",
    "\n",
    "for col, value in df.items():\n",
    "    if col!='type':\n",
    "        sns.boxplot(y=col,data=df,ax=ax[index])\n",
    "        index+=1\n",
    "    "
   ]
  },
  {
   "cell_type": "markdown",
   "id": "aedc2162",
   "metadata": {},
   "source": [
    "### 3.2.1. Сохраним обработанные данные"
   ]
  },
  {
   "cell_type": "code",
   "execution_count": 22,
   "id": "5e32b0c7",
   "metadata": {},
   "outputs": [],
   "source": [
    "df.to_pickle('interim_data/3.2.1_df.pkl')"
   ]
  },
  {
   "cell_type": "markdown",
   "id": "median-vertex",
   "metadata": {
    "papermill": {
     "duration": 0.037805,
     "end_time": "2021-04-09T21:01:55.770096",
     "exception": false,
     "start_time": "2021-04-09T21:01:55.732291",
     "status": "completed"
    },
    "tags": []
   },
   "source": [
    "### 3.3 Разделение данных на признаки и целевую переменную"
   ]
  },
  {
   "cell_type": "code",
   "execution_count": 15,
   "id": "direct-distance",
   "metadata": {
    "execution": {
     "iopub.execute_input": "2021-04-09T21:01:55.850969Z",
     "iopub.status.busy": "2021-04-09T21:01:55.850066Z",
     "iopub.status.idle": "2021-04-09T21:01:55.855243Z",
     "shell.execute_reply": "2021-04-09T21:01:55.855703Z"
    },
    "papermill": {
     "duration": 0.047118,
     "end_time": "2021-04-09T21:01:55.855871",
     "exception": false,
     "start_time": "2021-04-09T21:01:55.808753",
     "status": "completed"
    },
    "tags": []
   },
   "outputs": [],
   "source": [
    "X=df.drop(columns=['type','quality'])\n",
    "y=df['quality']"
   ]
  },
  {
   "cell_type": "markdown",
   "id": "473b0b8d",
   "metadata": {},
   "source": [
    "# 4. Моделирование\n",
    "Теперь мы выберем модель, которую хотели бы попробовать. Используем обучающий набор данных для обучения модели и затем проверим ее с помощью тестового набора.\n",
    "\n",
    "## 4.1 Выбор модели\n",
    "Хорошей отправной точкой является логистическая регрессия."
   ]
  },
  {
   "cell_type": "code",
   "execution_count": 25,
   "id": "coastal-jumping",
   "metadata": {
    "execution": {
     "iopub.execute_input": "2021-04-09T21:01:56.999915Z",
     "iopub.status.busy": "2021-04-09T21:01:56.999233Z",
     "iopub.status.idle": "2021-04-09T21:01:57.004787Z",
     "shell.execute_reply": "2021-04-09T21:01:57.005263Z"
    },
    "papermill": {
     "duration": 0.049568,
     "end_time": "2021-04-09T21:01:57.005445",
     "exception": false,
     "start_time": "2021-04-09T21:01:56.955877",
     "status": "completed"
    },
    "tags": []
   },
   "outputs": [],
   "source": [
    "from sklearn.model_selection import cross_val_score, train_test_split\n",
    "from sklearn.linear_model import LogisticRegression\n",
    "LR_model= LogisticRegression()"
   ]
  },
  {
   "cell_type": "markdown",
   "id": "51599440",
   "metadata": {},
   "source": [
    "## 4.2 Обучение модели"
   ]
  },
  {
   "cell_type": "code",
   "execution_count": 26,
   "id": "06a122f2",
   "metadata": {},
   "outputs": [
    {
     "name": "stdout",
     "output_type": "stream",
     "text": [
      "Accuracy 46.33846153846154\n"
     ]
    }
   ],
   "source": [
    "X_train,x_test,y_train,y_test=train_test_split(X,y,test_size=0.25, random_state=43)\n",
    "LR_model.fit(X_train,y_train)\n",
    "print(\"Accuracy\", LR_model.score(x_test,y_test)*100)"
   ]
  },
  {
   "cell_type": "markdown",
   "id": "cb2f75ae",
   "metadata": {},
   "source": [
    "# 5. Оценка\n",
    "Теперь мы собираемся оценить модель\n",
    "\n",
    "## 5.1 Модель\n",
    "Мы можем оценить точность модели, используя набор для валидации, где мы знаем фактический результат. Этот набор данных не использовался для обучения, поэтому он абсолютно новый для модели.\n",
    "\n",
    "Затем мы сравниваем точность с точностью при использовании модели на тренировочных данных. Если разница между ними значительна, это свидетельствует о переобучении. Мы стараемся избегать этого, потому что это означает, что модель не будет хорошо обобщаться на новые данные (будет работать плохо)"
   ]
  },
  {
   "cell_type": "code",
   "execution_count": 27,
   "id": "cad2c4e0",
   "metadata": {},
   "outputs": [
    {
     "name": "stdout",
     "output_type": "stream",
     "text": [
      "CV Score 45.66767335820453\n"
     ]
    }
   ],
   "source": [
    "score=cross_val_score(LR_model,X,y,cv=5)\n",
    "print(\"CV Score\", np.mean(score)*100)"
   ]
  },
  {
   "cell_type": "markdown",
   "id": "5a039c38",
   "metadata": {},
   "source": [
    "#### Score низкий поэтому вернемся на шаг 4 и применим RandomForestClassifier"
   ]
  },
  {
   "cell_type": "code",
   "execution_count": 28,
   "id": "regulated-horror",
   "metadata": {
    "execution": {
     "iopub.execute_input": "2021-04-09T21:02:09.490946Z",
     "iopub.status.busy": "2021-04-09T21:02:09.490265Z",
     "iopub.status.idle": "2021-04-09T21:02:38.034244Z",
     "shell.execute_reply": "2021-04-09T21:02:38.033467Z"
    },
    "papermill": {
     "duration": 28.591346,
     "end_time": "2021-04-09T21:02:38.034408",
     "exception": false,
     "start_time": "2021-04-09T21:02:09.443062",
     "status": "completed"
    },
    "tags": []
   },
   "outputs": [],
   "source": [
    "from sklearn.ensemble import RandomForestClassifier\n",
    "RFC_model=RandomForestClassifier()\n"
   ]
  },
  {
   "cell_type": "markdown",
   "id": "d98e5c43",
   "metadata": {},
   "source": [
    "#### обучим модель из шага 4.2"
   ]
  },
  {
   "cell_type": "code",
   "execution_count": 29,
   "id": "29c91996",
   "metadata": {},
   "outputs": [
    {
     "name": "stdout",
     "output_type": "stream",
     "text": [
      "Accuracy 68.18461538461538\n"
     ]
    }
   ],
   "source": [
    "RFC_model.fit(X_train,y_train)\n",
    "print(\"Accuracy\", RFC_model.score(x_test,y_test)*100)"
   ]
  },
  {
   "cell_type": "markdown",
   "id": "c1e77441",
   "metadata": {},
   "source": [
    "#### проведем оценку модели из шага 5.1"
   ]
  },
  {
   "cell_type": "code",
   "execution_count": 30,
   "id": "0151d72e",
   "metadata": {},
   "outputs": [
    {
     "name": "stdout",
     "output_type": "stream",
     "text": [
      "CV Score 50.191626695090896\n"
     ]
    }
   ],
   "source": [
    "score=cross_val_score(RFC_model,X,y,cv=5)\n",
    "print(\"CV Score\", np.mean(score)*100)"
   ]
  },
  {
   "cell_type": "markdown",
   "id": "73d7d877",
   "metadata": {},
   "source": [
    "### 5.2. Сохраним модели и финальный датасет"
   ]
  },
  {
   "cell_type": "code",
   "execution_count": 32,
   "id": "ecd02748",
   "metadata": {},
   "outputs": [],
   "source": [
    "saved_LR_model = 'models/5.2_LR_model.pkl'\n",
    "saved_RFC_model = 'models/5.2_RandomForestClassifier_model.pkl'\n",
    "\n",
    "with open(saved_LR_model, 'wb') as file:\n",
    "    pickle.dump(LR_model, file)\n",
    "    \n",
    "with open(saved_RFC_model, 'wb') as file:\n",
    "    pickle.dump(RFC_model, file)\n",
    "    \n",
    "df.to_pickle('final_data/5.2_df.pkl')"
   ]
  },
  {
   "cell_type": "markdown",
   "id": "10ba48f4",
   "metadata": {
    "papermill": {
     "duration": 0.044131,
     "end_time": "2021-04-09T21:02:47.796101",
     "exception": false,
     "start_time": "2021-04-09T21:02:47.751970",
     "status": "completed"
    },
    "tags": []
   },
   "source": [
    "# 6. Развертывание\n",
    "\n",
    "#### Если результат устраивает\n",
    "#### Развертывание в данном случае означает направление Ноутбука проверяющим Нетологии для оценки CrispDM-подхода"
   ]
  }
 ],
 "metadata": {
  "kernelspec": {
   "display_name": "Python 3",
   "language": "python",
   "name": "python3"
  },
  "language_info": {
   "codemirror_mode": {
    "name": "ipython",
    "version": 3
   },
   "file_extension": ".py",
   "mimetype": "text/x-python",
   "name": "python",
   "nbconvert_exporter": "python",
   "pygments_lexer": "ipython3",
   "version": "3.9.4"
  },
  "papermill": {
   "default_parameters": {},
   "duration": 67.507549,
   "end_time": "2021-04-09T21:02:48.652203",
   "environment_variables": {},
   "exception": null,
   "input_path": "__notebook__.ipynb",
   "output_path": "__notebook__.ipynb",
   "parameters": {},
   "start_time": "2021-04-09T21:01:41.144654",
   "version": "2.3.2"
  }
 },
 "nbformat": 4,
 "nbformat_minor": 5
}
